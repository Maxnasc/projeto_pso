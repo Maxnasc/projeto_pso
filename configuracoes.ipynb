{
 "cells": [
  {
   "cell_type": "markdown",
   "metadata": {},
   "source": [
    "# Configurações\n",
    "\n",
    "## Configuração 01\n",
    "w = 0.9\n",
    "c1 = 2\n",
    "c2 = 2\n",
    "\n",
    "## Configuração 02\n",
    "w = [0.9 -> 0.4]\n",
    "c1 = 2\n",
    "c2 = 2\n",
    "\n",
    "## Configuração 03\n",
    "X = 0.73\n",
    "c1 = 2.05\n",
    "c2 = 2.05\n",
    "\n",
    "m = 100\n",
    "g = 100"
   ]
  }
 ],
 "metadata": {
  "language_info": {
   "name": "python"
  }
 },
 "nbformat": 4,
 "nbformat_minor": 2
}
